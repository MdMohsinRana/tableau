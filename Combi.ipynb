{
 "cells": [
  {
   "cell_type": "code",
   "execution_count": 1,
   "id": "3b1b063c",
   "metadata": {},
   "outputs": [],
   "source": [
    "import pandas as pd\n",
    "import os"
   ]
  },
  {
   "cell_type": "code",
   "execution_count": 2,
   "id": "ed87f691",
   "metadata": {},
   "outputs": [],
   "source": [
    "csv_files = ['JAN2017.csv', 'FEB2017.csv', 'MAR2017.csv', 'APR2017.csv', 'MAY2017.csv', 'JUN2017.csv', 'JUL2017.csv', 'AUG2017.csv', 'SEP2017.csv', 'OCT2017.csv', 'NOV2017.csv', 'DEC2017.csv']"
   ]
  },
  {
   "cell_type": "code",
   "execution_count": 3,
   "id": "5804c556",
   "metadata": {},
   "outputs": [],
   "source": [
    "combined_data = pd.DataFrame()"
   ]
  },
  {
   "cell_type": "code",
   "execution_count": 4,
   "id": "d4a0bb6c",
   "metadata": {},
   "outputs": [
    {
     "name": "stderr",
     "output_type": "stream",
     "text": [
      "/var/folders/yh/yhwrw9vx6xnd0gr7k6kt012h0000gn/T/ipykernel_18104/3207875853.py:3: FutureWarning: The frame.append method is deprecated and will be removed from pandas in a future version. Use pandas.concat instead.\n",
      "  combined_data = combined_data.append(df, ignore_index=True)\n",
      "/var/folders/yh/yhwrw9vx6xnd0gr7k6kt012h0000gn/T/ipykernel_18104/3207875853.py:3: FutureWarning: The frame.append method is deprecated and will be removed from pandas in a future version. Use pandas.concat instead.\n",
      "  combined_data = combined_data.append(df, ignore_index=True)\n",
      "/var/folders/yh/yhwrw9vx6xnd0gr7k6kt012h0000gn/T/ipykernel_18104/3207875853.py:3: FutureWarning: The frame.append method is deprecated and will be removed from pandas in a future version. Use pandas.concat instead.\n",
      "  combined_data = combined_data.append(df, ignore_index=True)\n",
      "/var/folders/yh/yhwrw9vx6xnd0gr7k6kt012h0000gn/T/ipykernel_18104/3207875853.py:3: FutureWarning: The frame.append method is deprecated and will be removed from pandas in a future version. Use pandas.concat instead.\n",
      "  combined_data = combined_data.append(df, ignore_index=True)\n",
      "/var/folders/yh/yhwrw9vx6xnd0gr7k6kt012h0000gn/T/ipykernel_18104/3207875853.py:3: FutureWarning: The frame.append method is deprecated and will be removed from pandas in a future version. Use pandas.concat instead.\n",
      "  combined_data = combined_data.append(df, ignore_index=True)\n",
      "/var/folders/yh/yhwrw9vx6xnd0gr7k6kt012h0000gn/T/ipykernel_18104/3207875853.py:3: FutureWarning: The frame.append method is deprecated and will be removed from pandas in a future version. Use pandas.concat instead.\n",
      "  combined_data = combined_data.append(df, ignore_index=True)\n",
      "/var/folders/yh/yhwrw9vx6xnd0gr7k6kt012h0000gn/T/ipykernel_18104/3207875853.py:3: FutureWarning: The frame.append method is deprecated and will be removed from pandas in a future version. Use pandas.concat instead.\n",
      "  combined_data = combined_data.append(df, ignore_index=True)\n",
      "/var/folders/yh/yhwrw9vx6xnd0gr7k6kt012h0000gn/T/ipykernel_18104/3207875853.py:3: FutureWarning: The frame.append method is deprecated and will be removed from pandas in a future version. Use pandas.concat instead.\n",
      "  combined_data = combined_data.append(df, ignore_index=True)\n",
      "/var/folders/yh/yhwrw9vx6xnd0gr7k6kt012h0000gn/T/ipykernel_18104/3207875853.py:3: FutureWarning: The frame.append method is deprecated and will be removed from pandas in a future version. Use pandas.concat instead.\n",
      "  combined_data = combined_data.append(df, ignore_index=True)\n",
      "/var/folders/yh/yhwrw9vx6xnd0gr7k6kt012h0000gn/T/ipykernel_18104/3207875853.py:3: FutureWarning: The frame.append method is deprecated and will be removed from pandas in a future version. Use pandas.concat instead.\n",
      "  combined_data = combined_data.append(df, ignore_index=True)\n",
      "/var/folders/yh/yhwrw9vx6xnd0gr7k6kt012h0000gn/T/ipykernel_18104/3207875853.py:3: FutureWarning: The frame.append method is deprecated and will be removed from pandas in a future version. Use pandas.concat instead.\n",
      "  combined_data = combined_data.append(df, ignore_index=True)\n",
      "/var/folders/yh/yhwrw9vx6xnd0gr7k6kt012h0000gn/T/ipykernel_18104/3207875853.py:3: FutureWarning: The frame.append method is deprecated and will be removed from pandas in a future version. Use pandas.concat instead.\n",
      "  combined_data = combined_data.append(df, ignore_index=True)\n"
     ]
    }
   ],
   "source": [
    "for file in csv_files:\n",
    "    df = pd.read_csv(file)\n",
    "    combined_data = combined_data.append(df, ignore_index=True)"
   ]
  },
  {
   "cell_type": "code",
   "execution_count": 5,
   "id": "c1d1d9f4",
   "metadata": {},
   "outputs": [],
   "source": [
    "combined_data.to_csv('combined_data.csv', index=False)"
   ]
  },
  {
   "cell_type": "code",
   "execution_count": 6,
   "id": "47592d51",
   "metadata": {},
   "outputs": [],
   "source": [
    "filename = \"combined.csv\""
   ]
  },
  {
   "cell_type": "code",
   "execution_count": 7,
   "id": "c28cd7fa",
   "metadata": {},
   "outputs": [],
   "source": [
    "combined_data.to_csv(filename, index=False)"
   ]
  },
  {
   "cell_type": "code",
   "execution_count": 8,
   "id": "0f77f6ac",
   "metadata": {},
   "outputs": [
    {
     "name": "stdout",
     "output_type": "stream",
     "text": [
      "Combined CSV file saved to /Users/mohsinrana/Desktop/Citi_Bike/2017/combined.csv\n"
     ]
    }
   ],
   "source": [
    "print(f\"Combined CSV file saved to {os.getcwd()}/{filename}\")"
   ]
  },
  {
   "cell_type": "code",
   "execution_count": null,
   "id": "e26fd2cd",
   "metadata": {},
   "outputs": [],
   "source": []
  }
 ],
 "metadata": {
  "kernelspec": {
   "display_name": "Python 3 (ipykernel)",
   "language": "python",
   "name": "python3"
  },
  "language_info": {
   "codemirror_mode": {
    "name": "ipython",
    "version": 3
   },
   "file_extension": ".py",
   "mimetype": "text/x-python",
   "name": "python",
   "nbconvert_exporter": "python",
   "pygments_lexer": "ipython3",
   "version": "3.10.6"
  }
 },
 "nbformat": 4,
 "nbformat_minor": 5
}
