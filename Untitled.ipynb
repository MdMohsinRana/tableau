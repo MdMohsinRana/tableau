{
 "cells": [
  {
   "cell_type": "code",
   "execution_count": 50,
   "id": "3b1b063c",
   "metadata": {},
   "outputs": [],
   "source": [
    "import pandas as pd\n",
    "import os"
   ]
  },
  {
   "cell_type": "code",
   "execution_count": 51,
   "id": "ed87f691",
   "metadata": {},
   "outputs": [],
   "source": [
    "jul_2017 = pd.read_csv(\"DEC2017.csv\")\n",
    "\n",
    "# Rename columns\n",
    "jul_2017 = jul_2017.rename(columns={\"tripduration\": \"Trip Duration\", \n",
    "                                \"starttime\": \"Start Time\",\n",
    "                                \"stoptime\": \"Stop Time\",\n",
    "                                \"start station id\": \"Start Station ID\",\n",
    "                                \"start station name\": \"Start Station Name\",\n",
    "                                \"start station latitude\": \"Start Station Latitude\",\n",
    "                                \"start station longitude\": \"Start Station Longitude\",\n",
    "                                \"end station id\": \"End Station ID\",\n",
    "                                \"end station name\": \"End Station Name\",\n",
    "                                \"end station latitude\": \"End Station Latitude\",\n",
    "                                \"end station longitude\": \"End Station Longitude\",\n",
    "                                \"bikeid\": \"Bike ID\",\n",
    "                                \"usertype\": \"User Type\",\n",
    "                                \"birth year\": \"Birth Year\",\n",
    "                                \"gender\": \"Gender\"})"
   ]
  },
  {
   "cell_type": "code",
   "execution_count": 52,
   "id": "5804c556",
   "metadata": {},
   "outputs": [],
   "source": [
    "jul_2017.to_csv('DEC2017_modified.csv', index=False)"
   ]
  },
  {
   "cell_type": "code",
   "execution_count": null,
   "id": "e26fd2cd",
   "metadata": {},
   "outputs": [],
   "source": []
  }
 ],
 "metadata": {
  "kernelspec": {
   "display_name": "Python 3 (ipykernel)",
   "language": "python",
   "name": "python3"
  },
  "language_info": {
   "codemirror_mode": {
    "name": "ipython",
    "version": 3
   },
   "file_extension": ".py",
   "mimetype": "text/x-python",
   "name": "python",
   "nbconvert_exporter": "python",
   "pygments_lexer": "ipython3",
   "version": "3.10.6"
  }
 },
 "nbformat": 4,
 "nbformat_minor": 5
}
